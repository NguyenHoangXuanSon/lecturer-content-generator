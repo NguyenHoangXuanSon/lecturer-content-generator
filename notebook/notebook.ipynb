{
 "cells": [
  {
   "cell_type": "code",
   "execution_count": 117,
   "metadata": {},
   "outputs": [
    {
     "name": "stdout",
     "output_type": "stream",
     "text": [
      "The autoreload extension is already loaded. To reload it, use:\n",
      "  %reload_ext autoreload\n"
     ]
    }
   ],
   "source": [
    "%load_ext autoreload\n",
    "%autoreload 2\n",
    "import os\n",
    "sys.path.append(\"..\")\n",
    "from src.utils import get_vector_store, get_file_text, get_pdf_text, get_text_chunks\n",
    "file_path = \"../test_data/Iceatea-onboard.pdf\"\n"
   ]
  },
  {
   "cell_type": "code",
   "execution_count": 125,
   "metadata": {},
   "outputs": [
    {
     "name": "stdout",
     "output_type": "stream",
     "text": [
      "<<TEXT SAMPLE>>\n",
      "AGENDA bao gồm 7 Module (Trong mỗi Module đều sẽ có các mục trò chơi): 📦 MODULE 1: VỀ CHÚNG TÔI 📘 MODULE 2: SỔ TAY NHÂN SỰ 🛠 MODULE 3: CÔNG CỤ LÀM VIỆC & GIAO TIẾP 💰 MODULE 4: CHÍNH SÁCH ĐÃI NGỘ 👥 MODULE 5: CHƯƠNG TRÌNH REFER & ĐÀO TẠO 🔐 MODULE 6: BẢO MẬT THÔNG TIN 📝 MODULE 7: BÀI KIỂM TRA TỔNG KẾT 📦 MODULE 1: VỀ CHÚNG TÔI 1.1. Giới thiệu công ty ▪ Tên công ty: Icetea Software - Công ty TNHH Icetea Software ▪ Thành lập: Tháng 3/2023 ▪ Lĩnh vực: Công nghệ, Blockchain, Game, AI ▪ Sứ mệnh: Mang đến các giải pháp công nghệ đột phá cùng dịch vụ chuyên nghiệp, tận tâm, tạo ra giá trị thực tiễn cho khách hàng. ▪ Tầm nhìn:Trở thành công ty công nghệ hàng đầu tại Việt Nam và Đông Nam Á, tiên phong đổi mới để nâng tầm chất lượng sản phẩm. ▪ Giá trị cốt lõi: Trách nhiệm - Hợp tác - Khát vọng 🎮 Trò chơi: ● Ghép giá trị cốt lõi Dạng: Kéo – thả Câu hỏi: Hãy kéo 3 từ đại diện cho giá trị \"Trà Đá\" của Icetea Software. Lựa chọn: Trách nhiệm, Hợp tác, Khát vọng, Lịch thiệp, Quyết liệt -> Đáp án đúng: Trách nhiệm – Hợp tác – Khát vọng\n",
      "1.2. Ban Điều Hành ▪ Hoa Văn Lương - CEO ▪ Hoàng Quốc Huy - CFO ▪ Trần Xuân Duy - COO ▪ Nguyễn Viết Thành - CTO 🎮 Trò chơi: ● Matching tên ↔ chức danh ● Ai là ai? Dạng:\n"
     ]
    }
   ],
   "source": [
    "all_text = get_file_text(file_path)\n",
    "print(\"<<TEXT SAMPLE>>\")\n",
    "print(all_text[:1200]) "
   ]
  },
  {
   "cell_type": "code",
   "execution_count": 129,
   "metadata": {},
   "outputs": [
    {
     "name": "stderr",
     "output_type": "stream",
     "text": [
      "Created a chunk of size 1031, which is longer than the specified 900\n",
      "Created a chunk of size 927, which is longer than the specified 900\n",
      "Created a chunk of size 1017, which is longer than the specified 900\n",
      "Created a chunk of size 993, which is longer than the specified 900\n",
      "Created a chunk of size 919, which is longer than the specified 900\n"
     ]
    },
    {
     "name": "stdout",
     "output_type": "stream",
     "text": [
      "Total of chunk: 7\n",
      "1     AGENDA bao gồm 7 Module (Trong mỗi Module đều sẽ có các mục trò chơi): 📦 MODULE 1: VỀ CHÚNG TÔI 📘 MODULE 2: SỔ TAY NHÂN SỰ 🛠 MODULE 3: CÔNG CỤ LÀM VIỆC & GIAO TIẾP 💰 MODULE 4: CHÍNH SÁCH ĐÃI NGỘ 👥 MODULE 5: CHƯƠNG TRÌNH REFER & ĐÀO TẠO 🔐 MODULE 6: BẢO MẬT THÔNG TIN 📝 MODULE 7: BÀI KIỂM TRA TỔNG KẾT 📦 MODULE 1: VỀ CHÚNG TÔI 1.1. Giới thiệu công ty ▪ Tên công ty: Icetea Software - Công ty TNHH Icetea Software ▪ Thành lập: Tháng 3/2023 ▪ Lĩnh vực: Công nghệ, Blockchain, Game, AI ▪ Sứ mệnh: Mang đến các giải pháp công nghệ đột phá cùng dịch vụ chuyên nghiệp, tận tâm, tạo ra giá trị thực tiễn cho khách hàng. ▪ Tầm nhìn:Trở thành công ty công nghệ hàng đầu tại Việt Nam và Đông Nam Á, tiên phong đổi mới để nâng tầm chất lượng sản phẩm. ▪ Giá trị cốt lõi: Trách nhiệm - Hợp tác - Khát vọng 🎮 Trò chơi: ● Ghép giá trị cốt lõi Dạng: Kéo – thả Câu hỏi: Hãy kéo 3 từ đại diện cho giá trị \"Trà Đá\" của Icetea Software. Lựa chọn: Trách nhiệm, Hợp tác, Khát vọng, Lịch thiệp, Quyết liệt -> Đáp án đúng: Trách nhiệm – Hợp tác – Khát vọng\n",
      "\n",
      "\n",
      "2     1.2. Ban Điều Hành ▪ Hoa Văn Lương - CEO ▪ Hoàng Quốc Huy - CFO ▪ Trần Xuân Duy - COO ▪ Nguyễn Viết Thành - CTO 🎮 Trò chơi: ● Matching tên ↔ chức danh ● Ai là ai? Dạng: Trắc nghiệm Câu hỏi: Ai là Giám đốc Công nghệ (CTO) của Icetea Software? A. Hoa Văn Lương B. Trần Xuân Duy C. Nguyễn Viết Thành D. Hoàng Quốc Huy -> Đáp án đúng: C 1.3. Sơ đồ tổ chức ▪ Các khối chính: ● Kinh doanh (Duy Trần - COO) - Phòng Global, Web3, ITS Korea, MKT ● Vận hành & Sản xuất (CEO Luong Hoa) - Phòng Glyph, BLC, Icetea Korea, R&D ● Tài chính - Kế toán - Pháp chế (CFO Huy Hoàng) ● BO (CEO Lương Hoa) - Phòng HCNS, PQA, Đảm bảo Nguồn lực 🎮 Trò chơi: ● Dạng: Kéo – thả các khối/phòng ban vào đúng vị trí trên sơ đồ trống Gợi ý: Kinh doanh, Sản xuất, Tài chính, QA, Pháp chế, Glyph, BLC ● Câu hỏi tình huống: “Bạn mới vào team BLC, vậy thuộc khối nào?” — 📘 MODULE 2: SỔ TAY NHÂN SỰ 2.1. Welcome & hành chính ▪ Máy in chung: ● Tầng 15: HP M227-M231\n",
      "\n",
      "\n",
      "3     ● Tầng 17: HP M428fdw ▪ Phòng họp: ● Tầng 15: 4 phòng + không gian mở ● Tầng 17: 6 phòng + 2 buồng điện thoại + không gian mở ▪ Cách đặt phòng: Dùng Google Calendar 🎮 Trò chơi: ● Tình huống: Bạn muốn họp nhóm tầng 17 lúc 14h thứ Ba. Bạn nên làm gì? A. Tự đến nếu phòng trống B. Book phòng qua Google Calendar C. Nhờ HR đặt -> Đáp án: B 2.2. Chấm công & thời gian làm việc ▪ Giờ làm: T2 - T6 (9:00 - 18:00), nghỉ trưa (12:00 - 13:00) ▪ T7: 9:00 - 12:00 (nếu cần) ▪ Phương pháp: FaceID / Vân tay ▪ Chính sách đi trễ: >15 phút → phạt 20.000đ/block (phần tiền bị phạt sẽ trừ vào thưởng T13) ▪ Lưu ý: Không ở lại qua đêm trong tòa nhà 🎮 Trò chơi: ● Flashcard Đúng/Sai Nhân viên được ở lại qua đêm nếu xin phép quản lý. Đáp án: Sai ● Câu hỏi tình huống: “Bạn check-in lúc 9:17 – bị trừ bao nhiêu?” — 🛠 MODULE 3: CÔNG CỤ LÀM VIỆC & GIAO TIẾP 3.1. Công cụ chính ▪ Email: Microsoft Outlook ▪ Giao tiếp: Microsoft Teams ▪ Lưu ý: ● Bật thông báo ● Bật xác thực 2 bước 3.2. 1Office ▪ Địa chỉ đăng nhập: https://icetea.1office.vn/\n",
      "\n",
      "\n",
      "4     ▪ Kích hoạt tài khoản qua email công ty ▪ Tính năng: ● Chấm công ● Nghỉ phép ● Quản lý đơn từ ● Nhận thông báo công ty ● Theo dõi sự kiện nội bộ ▪ Các loại đơn: ● Nghỉ phép ● Làm thêm giờ ● Công tác ● Yêu cầu giờ linh hoạt ● Nghỉ việc ● Chấm công in/out 🎮 Trò chơi: ● Loại: Kéo – thả / phân loại Câu hỏi: Kéo đúng loại đơn vào từng tình huống: - Làm việc sau 18h → Đơn làm thêm giờ - Quên check-in → Đơn chấm công IN/OUT - Nghỉ phép báo trước → Đơn nghỉ phép - Nghỉ đột xuất vì ốm → Đơn nghỉ phép (gửi chậm nhất 5 ngày) ● Câu hỏi: Bạn muốn về sớm 1 tiếng vì lý do cá nhân, nhưng làm bù buổi tối. Đơn nào phù hợp? A. Đơn nghỉ phép B. Đơn giờ linh hoạt C. Đơn làm thêm D. Không cần đơn\n",
      "\n",
      "\n",
      "5     -> Đáp án: B — 💰 MODULE 4: CHÍNH SÁCH ĐÃI NGỘ 4.1. Cơ bản ▪ HĐLĐ & BHXH theo luật Việt Nam ▪ 12 ngày phép/năm + lễ tết theo Luật Việt Nam ▪ Thưởng tháng 13 ▪ Đánh giá hiệu suất: 2 lần/năm (T3, T9) 4.2. Lương & thuế ▪ Ngày trả: 07 hàng tháng ▪ Qua ngân hàng TPBank ▪ Nhận phiếu lương qua email ▪ Thuế TNCN: Theo quy định Nhà nước 4.3. Phúc lợi khác ▪ Trang, thiết bị hiện đại ▪ Khám sức khỏe định kỳ hàng năm ▪ Bảo hiểm PTI Premium (sau 12 tháng chính thức) ▪ Không gian học tập, eSports, thể thao ▪ Team building, sinh nhật, tiệc tùng... 🎮 Trò chơi: ● Flashcard: Tài chính hay không? Câu hỏi: “Thưởng tháng 13” → Flashcard: Tài chính Câu hỏi: “Không gian eSports” → Flashcard: Phi tài chính Câu hỏi: “Đánh giá hiệu suất 2 lần/năm” → Flashcard: Tài chính ● “Tôi là ai?” – tình huống + chọn đúng quyền lợi được hưởng Tình huống: Bạn là nhân viên chính thức, làm việc từ tháng 1 năm ngoái, nay là tháng 7. Bạn được quyền lợi nào sau đây? A. Bảo hiểm sức khỏe PTI B. Thưởng Tết C. 12 ngày phép năm\n",
      "\n",
      "\n",
      "6     D. Tất cả các đáp án Đáp án: D — 👥 MODULE 5: CHƯƠNG TRÌNH REFER & ĐÀO TẠO 5.1. Refer ▪ Chính sách giới thiệu nhân sự ▪ Điều kiện nhận thưởng: Là nhân viên chính thức 5.2. Đào tạo ▪ Hỗ trợ lệ phí thi chứng chỉ ▪ Chương trình đào tạo nội bộ ▪ Quy định về đào tạo 🎮 Trò chơi: ● Loại: Sắp xếp theo thứ tự: Câu hỏi: Sắp xếp đúng quy trình tham gia chương trình Refer Các bước (lộn xộn): Gửi thông tin ứng viên → Ứng viên phỏng vấn → Ứng viên đậu và đi làm → Ứng viên qua thử việc → Nhận thưởng -> Đáp án: đúng thứ tự trên ● Tình huống: “Bạn muốn học chứng chỉ AWS – cần làm gì?” — 🔐 MODULE 6: BẢO MẬT THÔNG TIN 6.1. Tài khoản & mật khẩu ▪ Bật xác thực 2 lớp ▪ Không dùng lại mật khẩu ▪ Không chia sẻ mật khẩu 6.2. Sử dụng thiết bị ▪ Không dùng máy cá nhân không đăng ký ▪ Không tháo lắp thiết bị ▪ Tắt máy khi ra về ▪ Luôn khóa máy khi rời chỗ ngồi 6.3. Truy cập & cài đặt phần mềm ▪ Chỉ cài phần mềm trong danh mục cho phép\n",
      "\n",
      "\n",
      "7     ▪ Không truy cập ngoài phạm vi công việc ▪ Thiết bị cá nhân phải đăng ký với IT/ISO ▪ Không dùng USB riêng 🎮 Trò chơi: ● Tìm lỗi sai trong ảnh văn phòng (Có thể là hình ảnh chơi game trong lúc đang làm việc) ● Flashcard đúng/sai Câu hỏi: Tôi có thể dùng cùng 1 mật khẩu cho cả email và 1Office. → Đáp án: Sai Câu hỏi: Tôi nên đổi mật khẩu khi mới được cấp tài khoản. → Đáp án: Đúng ● Trắc nghiệm đa chọn: Chọn hành vi an toàn Câu hỏi: Hành vi nào sau đây được xem là đúng về bảo mật? (chọn tất cả đúng) ☑ Khóa màn hình khi rời bàn ☑ Bật xác thực 2 lớp ☐ Ghi pass ra giấy dán trên bàn ☐ Dùng máy tính cá nhân chưa đăng ký Đáp án: 1 & 2 — 📝 MODULE 7: BÀI KIỂM TRA TỔNG KẾT ▪ 15 - 20 câu trắc nghiệm ▪ Câu hỏi được chọn ngẫu nhiên từ mỗi module ▪ Điểm đạt: >80% ▪ Tự động cấp huy hiệu Onboarding Pro khi hoàn thành đồng thời hiển thị đáp án sau khi làm bài kiểm tra 🎮 Thực hiện: ● Tạo kho câu hỏi trắc nghiệm theo từng module ● Dùng gamification để hiển thị bảng điểm & badge: Dạng: Ghi điểm sau mỗi câu đúng → Mỗi câu đúng: +10 điểm → Trên 80 điểm: Nhận huy hiệu “Icetea Explorer” → Hiển thị thứ hạng trên bảng xếp hạng nội bộ\n",
      "\n",
      "\n"
     ]
    }
   ],
   "source": [
    "chunk_text = get_text_chunks(all_text)\n",
    "print(\"Total of chunk:\", len(chunk_text))\n",
    "for i, chunk in enumerate(chunk_text[:22], 1):\n",
    "    print(i, \"   \", chunk)\n",
    "    print(\"\\n\")\n"
   ]
  },
  {
   "cell_type": "code",
   "execution_count": 121,
   "metadata": {},
   "outputs": [],
   "source": [
    "from langchain_community.embeddings import HuggingFaceEmbeddings\n",
    "\n",
    "embeddings = HuggingFaceEmbeddings(model_name=\"sentence-transformers/all-MiniLM-L6-v2\")"
   ]
  },
  {
   "cell_type": "code",
   "execution_count": null,
   "metadata": {},
   "outputs": [
    {
     "name": "stderr",
     "output_type": "stream",
     "text": [
      "h:\\lecturer-content-generator\\src\\utils.py:102: LangChainDeprecationWarning: Default values for HuggingFaceEmbeddings.model_name were deprecated in LangChain 0.2.16 and will be removed in 0.4.0. Explicitly pass a model_name to the HuggingFaceEmbeddings constructor instead.\n",
      "  print(\"Input must be a PDF file path or a file object\")\n"
     ]
    }
   ],
   "source": [
    "from langchain_community.vectorstores import FAISS\n",
    "vectorstore = get_vector_store(chunk_text)"
   ]
  },
  {
   "cell_type": "code",
   "execution_count": 123,
   "metadata": {},
   "outputs": [
    {
     "name": "stdout",
     "output_type": "stream",
     "text": [
      "AGENDA bao gồm 7 Module (Trong mỗi Module đều sẽ có các mục trò chơi): 📦 MODULE 1: VỀ CHÚNG TÔI 📘 MODULE 2: SỔ TAY NHÂN SỰ 🛠 MODULE 3: CÔNG CỤ LÀM VIỆC & GIAO TIẾP 💰 MODULE 4: CHÍNH SÁCH ĐÃI NGỘ 👥 MODULE 5: CHƯƠNG TRÌNH REFER & ĐÀO TẠO 🔐 MODULE 6: BẢO MẬT THÔNG TIN 📝 MODULE 7: BÀI KIỂM TRA TỔNG KẾT 📦 MODULE 1: VỀ CHÚNG TÔI 1.1. Giới thiệu công ty ▪ Tên công ty: Icetea Software - Công ty TNHH Icetea Software ▪ Thành lập: Tháng 3/2023 ▪ Lĩnh vực: Công nghệ, Blockchain, Game, AI ▪ Sứ mệnh: Mang đến các giải pháp công nghệ đột phá cùng dịch vụ chuyên nghiệp, tận tâm, tạo ra giá trị thực tiễn cho khách hàng. ▪ Tầm nhìn:Trở thành công ty công nghệ hàng đầu tại Việt Nam và Đông Nam Á, tiên phong đổi mới để nâng tầm chất lượng sản phẩm. ▪ Giá trị cốt lõi: Trách nhiệm - Hợp tác - Khát vọng 🎮 Trò chơi: ● Ghép giá trị cốt lõi Dạng: Kéo – thả Câu hỏi: Hãy kéo 3 từ đại diện cho giá trị \"Trà Đá\" của Icetea Software. Lựa chọn: Trách nhiệm, Hợp tác, Khát vọng, Lịch thiệp, Quyết liệt -> Đáp án đúng: Trách nhiệm – Hợp tác – Khát vọng\n",
      "[ 7.16960803e-02 -6.98664263e-02 -1.55703891e-02  3.33571397e-02\n",
      " -2.76708025e-02 -1.68553717e-03  6.78048353e-04  1.03569655e-02\n",
      "  6.35452345e-02  2.25020815e-02 -9.71355010e-03  5.59655055e-02\n",
      "  4.72215377e-02  5.90431094e-02  1.74253248e-02 -7.90561661e-02\n",
      "  3.83920483e-02  3.01507544e-02 -2.32998468e-02 -1.81121286e-02\n",
      "  1.28768152e-02  3.25755477e-02  1.25339832e-02  5.76346330e-02\n",
      "  6.77976683e-02 -6.28608167e-02  4.45331074e-03  3.18426192e-02\n",
      " -4.24973182e-02 -9.44353640e-02 -5.04072756e-03  1.42591260e-03\n",
      " -3.41626145e-02 -4.54960465e-02  2.70178634e-06 -6.01758957e-02\n",
      " -4.38526869e-02  1.67285709e-03 -7.79356882e-02  5.95983230e-02\n",
      "  3.70631143e-02  3.43562365e-02 -1.20755387e-02  1.42460139e-02\n",
      "  1.82395838e-02  1.68020800e-02  6.48123352e-03  4.50441651e-02\n",
      "  5.39393630e-03  2.45565660e-02 -5.80522837e-03  4.49551120e-02\n",
      " -5.90873361e-02 -2.65719648e-02  4.42920402e-02 -4.62131463e-02\n",
      " -6.23605866e-03  8.10675025e-02  1.14719748e-01  3.55064757e-02\n",
      "  1.16333936e-03 -4.64702840e-04 -2.91651953e-03  9.70030110e-03\n",
      "  1.54968165e-02  3.68449651e-02  3.99502181e-02 -7.15475380e-02\n",
      "  1.35784717e-02  3.91917750e-02  8.29204470e-02 -3.09603158e-02\n",
      "  2.30158661e-02  6.76510632e-02  3.37060243e-02 -8.74773338e-02\n",
      " -3.02565340e-02  3.45373666e-03 -9.41020437e-03  1.39852809e-02\n",
      "  8.32428038e-02  1.05296366e-03 -3.43904383e-02  1.38698416e-02\n",
      "  6.54937513e-03 -1.91765446e-02 -3.08825281e-02 -1.76935010e-02\n",
      " -4.21946608e-02 -4.52822074e-02  2.27430109e-02 -2.08588690e-02\n",
      " -1.34349931e-02  1.12709496e-02  2.76776664e-02 -1.29518146e-02\n",
      "  2.86688469e-02  4.31030281e-02  1.98516827e-02 -8.17999169e-02\n",
      " -3.60874794e-02  9.43192244e-02 -2.67818309e-02  5.87860644e-02\n",
      "  2.71428786e-02  4.59889099e-02  1.59945525e-02  5.06042279e-02\n",
      " -4.39033359e-02  3.46102640e-02  2.20756773e-02  4.74442216e-03\n",
      " -5.86109124e-02  6.21785708e-02 -6.29114881e-02 -9.01264080e-04\n",
      " -3.46279033e-02  4.25838977e-02  4.31068018e-02  3.77135947e-02\n",
      "  5.06184995e-02  1.87511928e-02 -4.16719168e-02  2.08207686e-02\n",
      "  1.63770281e-02  1.08772926e-02 -5.07324338e-02  2.15509962e-02\n",
      "  3.62191931e-03 -2.19702870e-02 -2.38694120e-02  2.61103828e-02\n",
      " -3.37584433e-03 -8.84335581e-03  4.62571494e-02  1.32638197e-02\n",
      " -1.56375803e-02  4.35439534e-02  3.42868306e-02 -1.35675268e-02\n",
      " -2.34462712e-02 -2.66474634e-02 -2.16111839e-02  1.61948358e-03\n",
      " -2.47043725e-02 -1.67964343e-02  3.90033014e-02  3.55569012e-02\n",
      " -2.73604020e-02 -2.44934973e-03 -6.77701458e-02  1.33237755e-02\n",
      " -2.09754724e-02  2.11641267e-02 -1.59047637e-02  5.52886091e-02\n",
      " -2.03802064e-02 -2.71040350e-02 -3.50366086e-02  3.12083808e-04\n",
      "  4.40994091e-02 -2.39844676e-02 -5.49488422e-03 -3.24661552e-04\n",
      " -3.01688295e-02  1.02775590e-02  3.15528661e-02  3.79532091e-02\n",
      "  3.99706550e-02 -5.98213598e-02 -2.57643089e-02  2.50731427e-02\n",
      "  8.97849459e-05  6.78217039e-02  8.98956973e-03 -2.61207554e-03\n",
      "  1.98474992e-02 -3.15859951e-02 -7.06635937e-02  2.07780451e-02\n",
      "  1.57863181e-02 -4.55414243e-02  3.44945006e-02  9.37884301e-03\n",
      " -1.81211904e-02  3.52224000e-02 -1.66955215e-04  7.86726270e-03\n",
      " -1.80024523e-02  4.48138453e-03 -9.20741935e-04  8.67567025e-03\n",
      "  2.96432781e-03  8.29266012e-03 -2.88859792e-02  1.24353711e-02\n",
      "  1.03584621e-02 -4.58902270e-02  4.50890465e-03  2.76958384e-03\n",
      " -1.58320554e-02 -5.82667030e-02  6.78566918e-02  1.07845366e-02\n",
      " -1.37701808e-02  3.15896757e-02  5.62011870e-03 -2.04289835e-02\n",
      " -1.99193973e-02  2.44489480e-02 -3.05316225e-02  8.08187574e-03\n",
      " -4.52111550e-02  9.24980920e-03  2.19890196e-02  5.34493476e-02\n",
      "  2.18571760e-02  4.98668291e-02 -5.25956452e-02  5.26479520e-02\n",
      " -4.24421486e-03  7.53225237e-02 -1.53121138e-02 -2.09837798e-02\n",
      "  6.30523190e-02  2.52942741e-03 -2.54375320e-02  5.60155138e-03\n",
      "  4.04763632e-02  6.14508726e-02 -4.99884179e-03  3.16432049e-03\n",
      "  4.85112853e-02  2.34974287e-02  2.49389522e-02  6.45125136e-02\n",
      "  2.01975629e-02 -2.61184666e-02  5.60611747e-02  1.62941646e-02\n",
      "  4.62556295e-02 -1.55793838e-02  1.77536719e-02 -2.82118376e-02\n",
      "  6.54677525e-02  4.25495505e-02 -1.75752621e-02 -2.10336465e-02\n",
      " -1.60948990e-03 -8.89871549e-03  3.18015292e-02  4.10578549e-02\n",
      "  2.27253754e-02  2.79062544e-03 -3.69520742e-03  7.03002363e-02\n",
      " -7.09723011e-02  4.12162095e-02 -6.49149762e-03  3.17732367e-04\n",
      "  9.27257910e-02 -3.82886790e-02 -8.77243467e-03 -2.87804585e-02\n",
      "  9.81516838e-02 -2.42500398e-02  9.61420219e-03 -6.78207353e-02\n",
      "  5.74606296e-04 -3.50974575e-02  1.38866426e-02  7.44493678e-02\n",
      "  1.25152303e-03 -3.67668457e-02  2.48454208e-03  3.37006673e-02\n",
      " -2.64753755e-02  2.91894171e-02 -1.67007092e-02 -1.02447998e-02\n",
      "  1.64552871e-02 -5.40270889e-03  9.68785584e-03  4.07061167e-02\n",
      "  1.28493663e-02 -1.46990633e-02  4.64460754e-04 -9.23027694e-02\n",
      " -1.51711749e-02 -3.86098661e-02 -3.89812365e-02 -5.02051599e-02\n",
      "  2.94592534e-03 -6.95689917e-02  4.67740581e-04  3.46936807e-02\n",
      " -3.08353454e-02  1.34259770e-02 -2.20578499e-02  7.90184289e-02\n",
      " -4.14847620e-02 -4.26078439e-02 -7.22710320e-05 -4.15659510e-03\n",
      " -3.22488672e-03  2.58556586e-02  2.77951751e-02 -8.10259581e-02\n",
      " -1.76467635e-02 -1.25436410e-02  3.24623697e-02  1.93984397e-02\n",
      " -1.85673125e-02 -7.97991231e-02 -2.47701388e-02  5.43499589e-02\n",
      "  2.06615403e-03 -4.56133373e-02 -4.36780713e-02 -2.73403758e-03\n",
      " -2.39133406e-02  3.50169539e-02 -3.16091403e-02 -1.77327767e-02\n",
      " -8.86099264e-02 -7.56418407e-02 -3.19047347e-02 -6.97088987e-02\n",
      "  1.05776556e-01 -6.98896796e-02  2.62403991e-02  7.13410825e-02\n",
      " -5.14652580e-02  3.02737206e-02 -4.65393029e-02 -3.46553177e-02\n",
      " -3.37794833e-02 -1.94141839e-03 -2.54486292e-03  4.17168485e-03\n",
      " -4.11753356e-02  8.14853515e-03  1.15374336e-02  3.91975753e-02\n",
      " -3.25434394e-02 -5.32341469e-03 -2.79174168e-02  4.09936756e-02\n",
      "  5.53895310e-02 -1.92071404e-03  2.03491375e-03 -3.28553393e-02\n",
      "  2.06355890e-05  7.46652205e-03 -4.53261845e-03 -2.12445837e-02\n",
      "  7.83837680e-03 -2.70807906e-03 -4.86732610e-02  5.31044826e-02\n",
      "  6.79471716e-02  1.91231491e-03  2.50014476e-02 -1.60391610e-02\n",
      "  4.34184261e-02  2.97590196e-02  4.75101992e-02  6.87275752e-02\n",
      " -2.89434213e-02  3.42754312e-02  2.22014356e-02 -1.63470637e-02\n",
      "  3.40800956e-02  3.66580635e-02 -4.30451855e-02 -1.14114652e-03\n",
      " -1.16207749e-02  4.04195748e-02  3.54694203e-02  5.82833961e-03\n",
      "  2.60418747e-02 -6.24294020e-02  6.20836616e-02  1.13877505e-02\n",
      " -7.61833135e-03 -2.70660501e-02 -4.74575069e-03 -5.03113158e-02\n",
      " -2.22440958e-02  4.94715609e-02  4.87828553e-02 -2.37919576e-02\n",
      " -1.32706407e-02 -4.66349646e-02 -1.04655083e-02  2.15236861e-02\n",
      "  2.46841703e-02 -5.49158501e-03  1.25284260e-03  1.62957814e-02\n",
      "  2.97824610e-02 -6.46004081e-02  2.76913848e-02  6.16983585e-02\n",
      "  9.30160936e-03  7.96592161e-02  3.28937136e-02  2.44884230e-02\n",
      " -1.27655407e-02  2.67062690e-02  6.50508627e-02 -4.86998968e-02\n",
      " -3.72485886e-03 -1.15301302e-02 -2.55788788e-02 -3.22779082e-02\n",
      "  1.18290894e-02  2.82821944e-03  2.08830293e-02 -5.48137799e-02\n",
      " -1.65213328e-02  9.07141436e-03  1.87321287e-02 -4.27019559e-02\n",
      " -1.54477684e-02  2.08620727e-02  1.32519215e-01  3.60452011e-03\n",
      "  2.03301944e-02 -4.66294773e-03 -9.72853624e-04  3.28440405e-02\n",
      " -8.05220902e-02 -3.34267356e-02 -1.68851987e-02 -2.75308173e-02\n",
      " -6.61496213e-03 -3.46333794e-02 -2.89094844e-03  8.44287034e-03\n",
      " -7.77329057e-02 -4.60054576e-02  3.45130600e-02  1.56686418e-02\n",
      "  4.93529439e-02  1.07590202e-03  3.53897735e-02  3.21626365e-02\n",
      " -4.72876206e-02 -4.32683527e-02 -1.83367245e-02 -3.54960002e-02\n",
      "  1.37113621e-02 -6.32611439e-02 -1.28158638e-02 -1.51211536e-02\n",
      " -2.90494394e-02 -2.47651935e-02  5.45065384e-04  1.88806001e-02\n",
      " -2.75359675e-02  3.75628769e-02  4.14127950e-03  8.95950943e-03\n",
      "  5.11121675e-02 -4.50974181e-02 -5.56002222e-02 -5.74805364e-02\n",
      "  2.67645437e-02  2.49972078e-03 -3.38088209e-03 -1.28785078e-03\n",
      " -2.39260644e-02  1.40162045e-03  2.08835071e-03 -2.79637072e-02\n",
      " -1.41614890e-02  1.47054112e-03 -1.18777826e-02  1.08485147e-02\n",
      "  5.51969223e-02 -2.30319370e-02  7.00465310e-03 -2.05813460e-02\n",
      " -1.57290045e-02 -6.77699922e-03 -1.50926793e-02 -4.24305983e-02\n",
      " -2.10137833e-02 -5.67557663e-02  1.63207855e-02 -4.21850309e-02\n",
      " -2.30398923e-02 -6.73618959e-03 -9.81563143e-03 -7.88551848e-03\n",
      "  5.03224470e-02  4.44013849e-02 -7.62746856e-02  4.24409397e-02\n",
      " -2.38538794e-02  3.37818675e-02 -9.72159952e-03  6.32982701e-03\n",
      " -2.28254329e-02  1.05911233e-02  2.70979921e-03  2.95417551e-02\n",
      " -2.75394712e-02 -1.10117830e-02  2.07460988e-02 -5.09753032e-03\n",
      " -1.76510997e-02 -1.05777025e-01  3.68336774e-02 -2.52699591e-02\n",
      "  6.66456074e-02 -1.82449128e-02  5.26612662e-02 -5.44840395e-02\n",
      "  4.34807502e-02 -5.02890535e-02  2.66674086e-02 -4.61375751e-02\n",
      " -7.71221071e-02 -2.84526702e-02 -1.53064169e-02 -3.07939686e-02\n",
      " -1.05990702e-02  4.61950824e-02 -1.40346102e-02  3.08726337e-02\n",
      "  3.74172367e-02 -1.00991449e-04 -4.17151824e-02 -3.44073400e-02\n",
      "  2.44835913e-02 -1.64307188e-02 -4.85407226e-02 -1.73150026e-03\n",
      " -2.55711898e-02  2.52176862e-04  3.14632803e-02 -4.12544832e-02\n",
      "  1.30502526e-02  1.30240330e-02 -1.26594193e-02 -7.25699996e-04\n",
      "  7.38874497e-03 -3.23431380e-02 -2.30384059e-02 -3.34297144e-03\n",
      " -6.65105358e-02  2.43247394e-02  6.99235797e-02 -8.18326270e-33\n",
      "  1.79748889e-03 -7.16314325e-03  2.31938455e-02 -1.53158111e-02\n",
      " -4.50619571e-02 -3.81508805e-02 -4.88017350e-02  2.34219376e-02\n",
      " -4.35105227e-02 -4.21313941e-02 -9.28476267e-03  2.26869471e-02\n",
      "  1.99788995e-02 -1.10827507e-02  4.39215489e-02 -2.07734294e-02\n",
      " -2.25865785e-02 -1.00001330e-02  6.76446874e-03 -2.69035413e-03\n",
      " -1.05267335e-02  8.84157140e-03  2.65216082e-02 -1.54496590e-02\n",
      "  7.64950812e-02  4.08406556e-02 -1.90313235e-02 -3.32944617e-02\n",
      "  3.11348047e-02 -1.28659224e-02 -2.20508035e-02 -6.37460947e-02\n",
      "  2.05237307e-02  2.09109578e-02  2.49251630e-03 -2.79942546e-02\n",
      " -6.42329603e-02 -1.24843558e-02  7.87823554e-03 -6.57411467e-04\n",
      " -3.26616727e-02 -1.05199171e-02 -5.87094799e-02  1.94936376e-02\n",
      " -3.67643721e-02  9.98606347e-03 -2.16892753e-02 -2.61994246e-02\n",
      "  2.04732120e-02  7.50319287e-02 -1.96220409e-02 -1.82819855e-03\n",
      " -1.18782418e-03  2.59272195e-02 -2.52695419e-02  7.78937042e-02\n",
      " -6.10244460e-03 -3.77866924e-02 -5.79815060e-02  1.75418817e-02\n",
      " -1.60251204e-02 -5.38632646e-03  1.89031870e-03 -2.91241612e-02\n",
      "  1.78511720e-02 -7.79937534e-03 -4.10726154e-03 -3.82701904e-02\n",
      " -2.68985964e-02  1.30017046e-02  4.41787206e-03  5.90054356e-02\n",
      "  5.92527725e-03 -6.74995407e-02 -6.94619166e-03 -8.30845088e-02\n",
      " -2.83548236e-02  2.51878630e-02  2.35068947e-02  2.43467093e-02\n",
      "  2.40005273e-02  1.01402737e-02 -4.20058072e-02 -4.28127237e-02\n",
      "  6.12996854e-02  7.89478701e-03 -4.46800478e-02 -3.53303477e-02\n",
      "  2.14581694e-02 -3.49632581e-04 -4.87218006e-03  1.74171664e-02\n",
      "  4.72185947e-02 -3.65929119e-02  1.14174439e-02 -6.22470155e-02\n",
      " -5.03012352e-03  4.40113450e-04 -3.80755961e-03  6.82082959e-03\n",
      " -4.50420380e-02 -2.58564949e-02 -1.82905067e-02 -1.71167646e-02\n",
      "  8.63830186e-03  2.12021712e-02  2.22572628e-02  1.48929749e-02\n",
      " -2.69105881e-02  1.79223530e-02  2.19951868e-02 -4.73797843e-02\n",
      "  5.11501357e-02 -4.95150946e-02 -3.81290391e-02  1.33568766e-02\n",
      "  1.36107886e-02 -3.09806243e-02  1.04245935e-02 -1.81161743e-02\n",
      " -2.50374228e-02 -1.43525116e-02 -1.56583302e-02  9.43481736e-03\n",
      " -4.80365977e-02  3.07898466e-02 -8.86379257e-02  4.42244150e-02\n",
      "  2.84902342e-02  9.07015987e-03 -1.53905666e-02 -4.31040563e-02\n",
      "  3.45510443e-07  5.21144876e-03  7.14069745e-03  3.65868397e-02\n",
      "  3.33147720e-02  4.95319208e-03 -8.43826588e-03 -6.38444871e-02\n",
      "  2.55928561e-02 -9.25826747e-03 -4.02817316e-03  5.66774569e-02\n",
      " -1.45705156e-02  5.00380099e-02 -2.30735335e-02 -1.48263434e-02\n",
      "  8.50173738e-03  5.56067936e-03 -4.88102958e-02 -3.22238989e-02\n",
      "  3.64253409e-02  5.34251854e-02  5.63737340e-02  1.04731182e-02\n",
      "  8.35077371e-03 -1.50944991e-02 -2.26099603e-02  1.44528085e-02\n",
      " -5.90343066e-02  2.98988894e-02 -1.29674571e-02  1.50223002e-02\n",
      " -9.49758664e-03 -3.62712704e-03 -2.21013706e-02  2.32795123e-02\n",
      " -5.99220172e-02  1.98578946e-02  2.90853959e-02  2.36354936e-05\n",
      "  3.41124348e-02 -4.12013307e-02 -5.77576719e-02 -1.22656545e-03\n",
      " -8.51616859e-02  3.49188894e-02  6.81932345e-02 -1.66838821e-02\n",
      "  8.38193391e-03  1.27747031e-02  2.10588556e-02  4.83535230e-02\n",
      "  6.20563934e-03  2.15209965e-02 -4.89127217e-03  2.41019279e-02\n",
      "  7.22599216e-03 -7.74748996e-03 -9.43417568e-03 -8.30449909e-03\n",
      " -2.08712611e-02 -2.77779195e-02 -8.01384635e-03  3.12605612e-02\n",
      "  6.05249815e-02  3.54080163e-02 -8.53160098e-02 -2.23953743e-02\n",
      "  4.12130523e-34  3.07701551e-03 -3.65431122e-02 -7.92661216e-03\n",
      " -2.31993087e-02  3.78147997e-02 -2.67514363e-02  3.53749730e-02\n",
      " -1.50458915e-02  3.53943394e-03 -4.53730337e-02 -4.60339971e-02]\n"
     ]
    }
   ],
   "source": [
    "docs = list(vectorstore.docstore._dict.values())\n",
    "\n",
    "print(docs[0].page_content)\n",
    "\n",
    "print(vectorstore.index.reconstruct(0))"
   ]
  },
  {
   "cell_type": "code",
   "execution_count": 109,
   "metadata": {},
   "outputs": [],
   "source": [
    "vectorstore.save_local(\"db/faiss_index\")\n"
   ]
  },
  {
   "cell_type": "code",
   "execution_count": null,
   "metadata": {},
   "outputs": [],
   "source": []
  },
  {
   "cell_type": "code",
   "execution_count": null,
   "metadata": {},
   "outputs": [],
   "source": []
  },
  {
   "cell_type": "code",
   "execution_count": null,
   "metadata": {},
   "outputs": [],
   "source": []
  },
  {
   "cell_type": "code",
   "execution_count": null,
   "metadata": {},
   "outputs": [],
   "source": []
  },
  {
   "cell_type": "code",
   "execution_count": null,
   "metadata": {},
   "outputs": [],
   "source": []
  },
  {
   "cell_type": "code",
   "execution_count": null,
   "metadata": {},
   "outputs": [],
   "source": []
  },
  {
   "cell_type": "code",
   "execution_count": null,
   "metadata": {},
   "outputs": [],
   "source": []
  },
  {
   "cell_type": "code",
   "execution_count": null,
   "metadata": {},
   "outputs": [],
   "source": []
  },
  {
   "cell_type": "code",
   "execution_count": null,
   "metadata": {},
   "outputs": [],
   "source": []
  },
  {
   "cell_type": "code",
   "execution_count": null,
   "metadata": {},
   "outputs": [],
   "source": []
  }
 ],
 "metadata": {
  "kernelspec": {
   "display_name": "venv",
   "language": "python",
   "name": "python3"
  },
  "language_info": {
   "codemirror_mode": {
    "name": "ipython",
    "version": 3
   },
   "file_extension": ".py",
   "mimetype": "text/x-python",
   "name": "python",
   "nbconvert_exporter": "python",
   "pygments_lexer": "ipython3",
   "version": "3.10.9"
  }
 },
 "nbformat": 4,
 "nbformat_minor": 2
}
